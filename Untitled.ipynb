{
 "cells": [
  {
   "cell_type": "markdown",
   "metadata": {},
   "source": [
    "# Problem #1\n",
    "Date Calculator\n",
    "You have joined a science project where a series of experiments are run for which you\n",
    "need to calculate the number of full days elapsed in between two events.\n",
    "The first and the last day are considered partial days and never counted. Following this\n",
    "logic, the distance between two related events on 03/08/2018 and 04/08/2018 is 0,\n",
    "since there are no fully elapsed days contained in between those, and 01/01/2000 to\n",
    "03/01/2000 should return 1.\n",
    "The solution needs to cater for all valid dates between 01/01/1901 and 31/12/2999.\n",
    "Test cases\n",
    "1) 02/06/1983 - 22/06/1983 = 19 days\n",
    "2) 04/07/1984 - 25/12/1984 = 173 days\n",
    "3) 03/01/1989 - 03/08/1983 = 1979 days\n",
    "(Please note these dates are formatted DD/MM/YYYY)\n",
    "Instructions\n",
    " - Write a command-line based program that accepts date input from the console.\n",
    " - You should not use any existing date libraries for your implementation.\n",
    " - You may however use date libraries to test your solution (we encourage it!)\n",
    " - Consider other potential input sources & how your app might fit into a bigger system"
   ]
  },
  {
   "cell_type": "code",
   "execution_count": 13,
   "metadata": {},
   "outputs": [],
   "source": [
    "import re"
   ]
  },
  {
   "cell_type": "markdown",
   "metadata": {},
   "source": [
    "Testing function to check that the supplied values are within the correct range"
   ]
  },
  {
   "cell_type": "code",
   "execution_count": 14,
   "metadata": {},
   "outputs": [],
   "source": [
    "def check_bounds(testval,  valrange):\n",
    "    '''\n",
    "    Test function to test whether the value falls within an acceptable range\n",
    "    Args:\n",
    "        testval (int): the value to be tested\n",
    "        valrange (tuple): range of values that tested value can take, in the form of min, max (<= min x <= max) \n",
    "    Returns:\n",
    "        boolean: indicates whether the testval is within the range specified\n",
    "    Examples:\n",
    "        >>> check_bounds( 15, (10,20))\n",
    "    '''\n",
    "    range_min, range_max = valrange\n",
    "    if( range_min <= testval <=range_max):\n",
    "        return (True)\n",
    "    else:\n",
    "        return(False)"
   ]
  },
  {
   "cell_type": "markdown",
   "metadata": {},
   "source": [
    "Function used to get the max date possible for a month (initial approach used a dictionary)"
   ]
  },
  {
   "cell_type": "code",
   "execution_count": 15,
   "metadata": {},
   "outputs": [],
   "source": [
    "def get_max_month_day( month, year):\n",
    "    '''\n",
    "    Given a month and year combo return the max date possible for validation\n",
    "    '''\n",
    "    if month ==2:\n",
    "        if (year%4 ==0):\n",
    "            return(29)\n",
    "        else:\n",
    "            return(28)\n",
    "    elif (month in [4, 6, 9, 11]) :\n",
    "        return(30)\n",
    "    else: \n",
    "        return(31)\n",
    "\n",
    "    "
   ]
  },
  {
   "cell_type": "markdown",
   "metadata": {},
   "source": [
    "Function to take string dates and return list components"
   ]
  },
  {
   "cell_type": "code",
   "execution_count": 16,
   "metadata": {},
   "outputs": [],
   "source": [
    "def process_dates (date_string, pattern = '(\\d{2})/(\\d{2})/(\\d{4})', US = False):\n",
    "    '''\n",
    "    Args:\n",
    "        date_string (string): string representation of date e.g. '10/11/2020'\n",
    "        pattern (string): regex pattern to match, defaults to  '(\\d{2})/(\\d{2})/(\\d{4})'\n",
    "        US (boolean): flag indicating whether to process dates as a boolean\n",
    "    Returns:\n",
    "        list : list of integer [year, month, day ]\n",
    "    Examples:\n",
    "        >>> process_dates('10/11/2020',  '(\\d{2})/(\\d{2})/(\\d{4})')\n",
    "    ''' \n",
    "    cmp_list = [(1,31),(1,12),(1901,2999)] #list that dates are compared to\n",
    "    if (US):\n",
    "        cmp_list[0],cmp_list[1] = cmp_list[1],cmp_list[0]\n",
    "    date_matched = re.search(pattern ,date_string)\n",
    "    if( date_matched is None):\n",
    "        raise Exception('could not parse date: '+date_string)\n",
    "    else:\n",
    "        date_components = []\n",
    "        if (US):\n",
    "            date_matched[1],date_matched[2] = date_matched[2], date_matched[1]\n",
    "        for i in range(1,4):\n",
    "            if (i ==1):\n",
    "                maxday = get_max_month_day(int(date_matched[i+1]) , int(date_matched[i+2]) )\n",
    "                test_res = check_bounds( int(date_matched[i]), (1, maxday))\n",
    "            else:\n",
    "                test_res = check_bounds( int(date_matched[i]), cmp_list[i-1])\n",
    "            if (test_res is False):\n",
    "                message = 'date component out of range: ' + date_matched[i] + ' in '+ date_string\n",
    "                raise Exception(message)\n",
    "            else:\n",
    "                date_components.append(int(date_matched[i]))\n",
    "    date_components = [int(dt) for dt in date_components]\n",
    "    return(date_components)\n"
   ]
  },
  {
   "cell_type": "markdown",
   "metadata": {},
   "source": [
    "Subtracts two (list components) dates. \n",
    "\n",
    "Uses approach of iterating through years adding maximum dates for months and then subtracting start and end"
   ]
  },
  {
   "cell_type": "code",
   "execution_count": 17,
   "metadata": {},
   "outputs": [],
   "source": [
    "def date_difference(date1, date2, enddate=False):\n",
    "    '''\n",
    "    Gets the difference between two dates\n",
    "    Args:\n",
    "        date1 (list): list of dates broken up into integer dmy components [d,m,y]\n",
    "        date2 (list): list of dates broken up into integer dmy components [d,m,y]\n",
    "        enddate (Boolean): whether or not the enddate is included in the calculation 1 day is added\n",
    "    Returns:\n",
    "        Integer difference in days\n",
    "    '''\n",
    " \n",
    "    startyear = int(date1[2])\n",
    "    startmonth = int(date1[1])\n",
    "    startday = int(date1[0])\n",
    "    endyear = int(date2[2])\n",
    "    endmonth = int(date2[1])\n",
    "    endday = int(date2[0])\n",
    "    \n",
    "    #calculate the number of days that have elapsed between start and end year\n",
    "    days_elapsed = 0\n",
    "    for y in range (startyear, endyear+1):\n",
    "        for m in range(1, 13):\n",
    "            days_elapsed += get_max_month_day(m,y)\n",
    "\n",
    "    #start date minus start of year\n",
    "    time_since_start = 0\n",
    "    for m in range(1,(startmonth)):\n",
    "        time_since_start += get_max_month_day(m,startyear)\n",
    "\n",
    "    #time_since_start = time_since_start + (-get_max_month_day(startmonth,startyear) + startday)\n",
    "    time_since_start += startday\n",
    "\n",
    "    #get extra days at the end of the year\n",
    "    end_date_extra = 0\n",
    "    for m in range(endmonth,(13)):\n",
    "        end_date_extra += get_max_month_day(m,endyear)\n",
    "    end_date_extra = end_date_extra + ( -endday )\n",
    "    #remove the extra bits of the date\n",
    "    days_elapsed= days_elapsed-(end_date_extra+time_since_start)\n",
    "    if (enddate):\n",
    "        return(days_elapsed)\n",
    "    else:\n",
    "        return(days_elapsed-1 )\n",
    "\n"
   ]
  },
  {
   "cell_type": "code",
   "execution_count": 18,
   "metadata": {},
   "outputs": [
    {
     "data": {
      "text/plain": [
       "1979"
      ]
     },
     "execution_count": 18,
     "metadata": {},
     "output_type": "execute_result"
    }
   ],
   "source": [
    "#04/07/1984 - 25/12/1984 = 173 days\n",
    "# 02/06/1983 - 22/06/1983 = 19 days\n",
    "# 03/01/1989 - 03/08/1983 = 1979 days\n",
    "date1  = process_dates('03/01/1989',  '(\\d{2})/(\\d{2})/(\\d{4})')\n",
    "date2  = process_dates('03/08/1983',  '(\\d{2})/(\\d{2})/(\\d{4})')\n",
    "\n",
    "\n",
    "date_difference(date2, date1)"
   ]
  },
  {
   "cell_type": "code",
   "execution_count": 19,
   "metadata": {},
   "outputs": [
    {
     "data": {
      "text/plain": [
       "0"
      ]
     },
     "execution_count": 19,
     "metadata": {},
     "output_type": "execute_result"
    }
   ],
   "source": [
    "date2  = process_dates('03/01/1989',  '(\\d{2})/(\\d{2})/(\\d{4})')\n",
    "date1  = process_dates('04/01/1989',  '(\\d{2})/(\\d{2})/(\\d{4})')\n",
    "\n",
    "date_difference(date2, date1)"
   ]
  },
  {
   "cell_type": "markdown",
   "metadata": {},
   "source": [
    "Creates the printout"
   ]
  },
  {
   "cell_type": "code",
   "execution_count": 20,
   "metadata": {},
   "outputs": [],
   "source": [
    "def date_sub_handler(date1, date2):\n",
    "    '''\n",
    "    handler for dates\n",
    "    '''\n",
    "    date_diff = date_difference(date2, date1)\n",
    "    if (date_diff == -1):\n",
    "        date_diff = 0\n",
    "    message = str(date_diff) +' days'\n",
    "    return(message)"
   ]
  },
  {
   "cell_type": "code",
   "execution_count": 22,
   "metadata": {},
   "outputs": [
    {
     "name": "stdout",
     "output_type": "stream",
     "text": [
      "17.8 µs ± 437 ns per loop (mean ± std. dev. of 7 runs, 100000 loops each)\n"
     ]
    }
   ],
   "source": [
    "%%timeit\n",
    "date2  = process_dates('04/01/1989',  '(\\d{2})/(\\d{2})/(\\d{4})')\n",
    "date1  = process_dates('04/01/1989',  '(\\d{2})/(\\d{2})/(\\d{4})')\n",
    "date_sub_handler(date1, date2)"
   ]
  },
  {
   "cell_type": "code",
   "execution_count": 1,
   "metadata": {},
   "outputs": [],
   "source": [
    "import pandas as pd"
   ]
  },
  {
   "cell_type": "code",
   "execution_count": 7,
   "metadata": {},
   "outputs": [
    {
     "name": "stdout",
     "output_type": "stream",
     "text": [
      "544 µs ± 29.5 µs per loop (mean ± std. dev. of 7 runs, 1000 loops each)\n"
     ]
    }
   ],
   "source": [
    "%%timeit\n",
    "pd.to_datetime('04/01/1989') - pd.to_datetime('04/01/1989')"
   ]
  },
  {
   "cell_type": "code",
   "execution_count": null,
   "metadata": {},
   "outputs": [],
   "source": []
  }
 ],
 "metadata": {
  "kernelspec": {
   "display_name": "interview-sypht",
   "language": "python",
   "name": "interview-sypht"
  },
  "language_info": {
   "codemirror_mode": {
    "name": "ipython",
    "version": 3
   },
   "file_extension": ".py",
   "mimetype": "text/x-python",
   "name": "python",
   "nbconvert_exporter": "python",
   "pygments_lexer": "ipython3",
   "version": "3.6.4"
  }
 },
 "nbformat": 4,
 "nbformat_minor": 2
}
